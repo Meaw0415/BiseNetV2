{
 "cells": [
  {
   "cell_type": "code",
   "execution_count": 27,
   "metadata": {},
   "outputs": [],
   "source": [
    "import os"
   ]
  },
  {
   "cell_type": "code",
   "execution_count": 28,
   "metadata": {},
   "outputs": [],
   "source": [
    "txt_path = \"E:/DATABASE/DAVIS/ImageSets/480p/train.txt\""
   ]
  },
  {
   "cell_type": "code",
   "execution_count": 29,
   "metadata": {},
   "outputs": [],
   "source": [
    "list_total = []\n",
    "list_img = []\n",
    "list_mask = []\n",
    "with open(txt_path,'r') as f :\n",
    "    for line in f.readlines():\n",
    "        line=line.strip('\\n')\n",
    "        list_total.append(line)\n",
    "for pair in list_total:\n",
    "    p = pair.split(' ')\n",
    "    img = p[0]\n",
    "    mask = p[1]\n",
    "    list_img.append(img)\n",
    "    list_mask.append(mask)"
   ]
  },
  {
   "cell_type": "code",
   "execution_count": 31,
   "metadata": {},
   "outputs": [],
   "source": [
    "img_path = os.path.join(os.path.abspath('.'),list_img[0])"
   ]
  },
  {
   "cell_type": "code",
   "execution_count": 32,
   "metadata": {},
   "outputs": [
    {
     "data": {
      "text/plain": [
       "'c:/JPEGImages/480p/bear/00000.jpg'"
      ]
     },
     "execution_count": 32,
     "metadata": {},
     "output_type": "execute_result"
    }
   ],
   "source": [
    "img_path"
   ]
  },
  {
   "cell_type": "code",
   "execution_count": null,
   "metadata": {},
   "outputs": [],
   "source": [
    "print(list_img)"
   ]
  }
 ],
 "metadata": {
  "kernelspec": {
   "display_name": "Python 3.8.12 ('swin')",
   "language": "python",
   "name": "python3"
  },
  "language_info": {
   "codemirror_mode": {
    "name": "ipython",
    "version": 3
   },
   "file_extension": ".py",
   "mimetype": "text/x-python",
   "name": "python",
   "nbconvert_exporter": "python",
   "pygments_lexer": "ipython3",
   "version": "3.8.12"
  },
  "orig_nbformat": 4,
  "vscode": {
   "interpreter": {
    "hash": "673659be129835c6a7a2fdf41c9d72ecd3d79da634f66c18f7ae86b4bd221ef4"
   }
  }
 },
 "nbformat": 4,
 "nbformat_minor": 2
}
